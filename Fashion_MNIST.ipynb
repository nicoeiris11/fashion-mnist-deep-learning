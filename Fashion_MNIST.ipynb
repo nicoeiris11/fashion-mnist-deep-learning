{
  "nbformat": 4,
  "nbformat_minor": 0,
  "metadata": {
    "accelerator": "GPU",
    "colab": {
      "name": "Fashion MNIST.ipynb",
      "provenance": [],
      "collapsed_sections": [],
      "include_colab_link": true
    },
    "kernelspec": {
      "display_name": "Python 3",
      "language": "python",
      "name": "python3"
    },
    "language_info": {
      "codemirror_mode": {
        "name": "ipython",
        "version": 3
      },
      "file_extension": ".py",
      "mimetype": "text/x-python",
      "name": "python",
      "nbconvert_exporter": "python",
      "pygments_lexer": "ipython3",
      "version": "3.7.0"
    },
    "widgets": {
      "application/vnd.jupyter.widget-state+json": {
        "cd7deb944806419c8af4780f017eb60b": {
          "model_module": "@jupyter-widgets/controls",
          "model_name": "HBoxModel",
          "state": {
            "_view_name": "HBoxView",
            "_dom_classes": [],
            "_model_name": "HBoxModel",
            "_view_module": "@jupyter-widgets/controls",
            "_model_module_version": "1.5.0",
            "_view_count": null,
            "_view_module_version": "1.5.0",
            "box_style": "",
            "layout": "IPY_MODEL_a6dcddc5708a491483fc5fc6357441aa",
            "_model_module": "@jupyter-widgets/controls",
            "children": [
              "IPY_MODEL_de4ffe22a4194c27a82d49166f7f87b6",
              "IPY_MODEL_4780935f483f4f70a1070f3af360abd6"
            ]
          }
        },
        "a6dcddc5708a491483fc5fc6357441aa": {
          "model_module": "@jupyter-widgets/base",
          "model_name": "LayoutModel",
          "state": {
            "_view_name": "LayoutView",
            "grid_template_rows": null,
            "right": null,
            "justify_content": null,
            "_view_module": "@jupyter-widgets/base",
            "overflow": null,
            "_model_module_version": "1.2.0",
            "_view_count": null,
            "flex_flow": null,
            "width": null,
            "min_width": null,
            "border": null,
            "align_items": null,
            "bottom": null,
            "_model_module": "@jupyter-widgets/base",
            "top": null,
            "grid_column": null,
            "overflow_y": null,
            "overflow_x": null,
            "grid_auto_flow": null,
            "grid_area": null,
            "grid_template_columns": null,
            "flex": null,
            "_model_name": "LayoutModel",
            "justify_items": null,
            "grid_row": null,
            "max_height": null,
            "align_content": null,
            "visibility": null,
            "align_self": null,
            "height": null,
            "min_height": null,
            "padding": null,
            "grid_auto_rows": null,
            "grid_gap": null,
            "max_width": null,
            "order": null,
            "_view_module_version": "1.2.0",
            "grid_template_areas": null,
            "object_position": null,
            "object_fit": null,
            "grid_auto_columns": null,
            "margin": null,
            "display": null,
            "left": null
          }
        },
        "de4ffe22a4194c27a82d49166f7f87b6": {
          "model_module": "@jupyter-widgets/controls",
          "model_name": "FloatProgressModel",
          "state": {
            "_view_name": "ProgressView",
            "style": "IPY_MODEL_a1d3c73631884ecbbcf434630baa62a0",
            "_dom_classes": [],
            "description": "",
            "_model_name": "FloatProgressModel",
            "bar_style": "success",
            "max": 1,
            "_view_module": "@jupyter-widgets/controls",
            "_model_module_version": "1.5.0",
            "value": 1,
            "_view_count": null,
            "_view_module_version": "1.5.0",
            "orientation": "horizontal",
            "min": 0,
            "description_tooltip": null,
            "_model_module": "@jupyter-widgets/controls",
            "layout": "IPY_MODEL_e0e305b389f946618ec2cd8d13415589"
          }
        },
        "4780935f483f4f70a1070f3af360abd6": {
          "model_module": "@jupyter-widgets/controls",
          "model_name": "HTMLModel",
          "state": {
            "_view_name": "HTMLView",
            "style": "IPY_MODEL_dd0fd158b1ed478eb4a0b998724acd04",
            "_dom_classes": [],
            "description": "",
            "_model_name": "HTMLModel",
            "placeholder": "​",
            "_view_module": "@jupyter-widgets/controls",
            "_model_module_version": "1.5.0",
            "value": " 26427392/? [00:01&lt;00:00, 15242760.50it/s]",
            "_view_count": null,
            "_view_module_version": "1.5.0",
            "description_tooltip": null,
            "_model_module": "@jupyter-widgets/controls",
            "layout": "IPY_MODEL_53e386f866014462808a304cb3aff72d"
          }
        },
        "a1d3c73631884ecbbcf434630baa62a0": {
          "model_module": "@jupyter-widgets/controls",
          "model_name": "ProgressStyleModel",
          "state": {
            "_view_name": "StyleView",
            "_model_name": "ProgressStyleModel",
            "description_width": "initial",
            "_view_module": "@jupyter-widgets/base",
            "_model_module_version": "1.5.0",
            "_view_count": null,
            "_view_module_version": "1.2.0",
            "bar_color": null,
            "_model_module": "@jupyter-widgets/controls"
          }
        },
        "e0e305b389f946618ec2cd8d13415589": {
          "model_module": "@jupyter-widgets/base",
          "model_name": "LayoutModel",
          "state": {
            "_view_name": "LayoutView",
            "grid_template_rows": null,
            "right": null,
            "justify_content": null,
            "_view_module": "@jupyter-widgets/base",
            "overflow": null,
            "_model_module_version": "1.2.0",
            "_view_count": null,
            "flex_flow": null,
            "width": null,
            "min_width": null,
            "border": null,
            "align_items": null,
            "bottom": null,
            "_model_module": "@jupyter-widgets/base",
            "top": null,
            "grid_column": null,
            "overflow_y": null,
            "overflow_x": null,
            "grid_auto_flow": null,
            "grid_area": null,
            "grid_template_columns": null,
            "flex": null,
            "_model_name": "LayoutModel",
            "justify_items": null,
            "grid_row": null,
            "max_height": null,
            "align_content": null,
            "visibility": null,
            "align_self": null,
            "height": null,
            "min_height": null,
            "padding": null,
            "grid_auto_rows": null,
            "grid_gap": null,
            "max_width": null,
            "order": null,
            "_view_module_version": "1.2.0",
            "grid_template_areas": null,
            "object_position": null,
            "object_fit": null,
            "grid_auto_columns": null,
            "margin": null,
            "display": null,
            "left": null
          }
        },
        "dd0fd158b1ed478eb4a0b998724acd04": {
          "model_module": "@jupyter-widgets/controls",
          "model_name": "DescriptionStyleModel",
          "state": {
            "_view_name": "StyleView",
            "_model_name": "DescriptionStyleModel",
            "description_width": "",
            "_view_module": "@jupyter-widgets/base",
            "_model_module_version": "1.5.0",
            "_view_count": null,
            "_view_module_version": "1.2.0",
            "_model_module": "@jupyter-widgets/controls"
          }
        },
        "53e386f866014462808a304cb3aff72d": {
          "model_module": "@jupyter-widgets/base",
          "model_name": "LayoutModel",
          "state": {
            "_view_name": "LayoutView",
            "grid_template_rows": null,
            "right": null,
            "justify_content": null,
            "_view_module": "@jupyter-widgets/base",
            "overflow": null,
            "_model_module_version": "1.2.0",
            "_view_count": null,
            "flex_flow": null,
            "width": null,
            "min_width": null,
            "border": null,
            "align_items": null,
            "bottom": null,
            "_model_module": "@jupyter-widgets/base",
            "top": null,
            "grid_column": null,
            "overflow_y": null,
            "overflow_x": null,
            "grid_auto_flow": null,
            "grid_area": null,
            "grid_template_columns": null,
            "flex": null,
            "_model_name": "LayoutModel",
            "justify_items": null,
            "grid_row": null,
            "max_height": null,
            "align_content": null,
            "visibility": null,
            "align_self": null,
            "height": null,
            "min_height": null,
            "padding": null,
            "grid_auto_rows": null,
            "grid_gap": null,
            "max_width": null,
            "order": null,
            "_view_module_version": "1.2.0",
            "grid_template_areas": null,
            "object_position": null,
            "object_fit": null,
            "grid_auto_columns": null,
            "margin": null,
            "display": null,
            "left": null
          }
        },
        "c4cda774fd1c46a2b6ea4b1136004775": {
          "model_module": "@jupyter-widgets/controls",
          "model_name": "HBoxModel",
          "state": {
            "_view_name": "HBoxView",
            "_dom_classes": [],
            "_model_name": "HBoxModel",
            "_view_module": "@jupyter-widgets/controls",
            "_model_module_version": "1.5.0",
            "_view_count": null,
            "_view_module_version": "1.5.0",
            "box_style": "",
            "layout": "IPY_MODEL_38a0580114694af2bd9a8d4ac85e2aa3",
            "_model_module": "@jupyter-widgets/controls",
            "children": [
              "IPY_MODEL_ccf0d87150fc420aa111df17fe8f7588",
              "IPY_MODEL_3446031a588641bd89818e9c572ac5f0"
            ]
          }
        },
        "38a0580114694af2bd9a8d4ac85e2aa3": {
          "model_module": "@jupyter-widgets/base",
          "model_name": "LayoutModel",
          "state": {
            "_view_name": "LayoutView",
            "grid_template_rows": null,
            "right": null,
            "justify_content": null,
            "_view_module": "@jupyter-widgets/base",
            "overflow": null,
            "_model_module_version": "1.2.0",
            "_view_count": null,
            "flex_flow": null,
            "width": null,
            "min_width": null,
            "border": null,
            "align_items": null,
            "bottom": null,
            "_model_module": "@jupyter-widgets/base",
            "top": null,
            "grid_column": null,
            "overflow_y": null,
            "overflow_x": null,
            "grid_auto_flow": null,
            "grid_area": null,
            "grid_template_columns": null,
            "flex": null,
            "_model_name": "LayoutModel",
            "justify_items": null,
            "grid_row": null,
            "max_height": null,
            "align_content": null,
            "visibility": null,
            "align_self": null,
            "height": null,
            "min_height": null,
            "padding": null,
            "grid_auto_rows": null,
            "grid_gap": null,
            "max_width": null,
            "order": null,
            "_view_module_version": "1.2.0",
            "grid_template_areas": null,
            "object_position": null,
            "object_fit": null,
            "grid_auto_columns": null,
            "margin": null,
            "display": null,
            "left": null
          }
        },
        "ccf0d87150fc420aa111df17fe8f7588": {
          "model_module": "@jupyter-widgets/controls",
          "model_name": "FloatProgressModel",
          "state": {
            "_view_name": "ProgressView",
            "style": "IPY_MODEL_0bd5810c784544c59edeca1a84b3359e",
            "_dom_classes": [],
            "description": "",
            "_model_name": "FloatProgressModel",
            "bar_style": "success",
            "max": 1,
            "_view_module": "@jupyter-widgets/controls",
            "_model_module_version": "1.5.0",
            "value": 1,
            "_view_count": null,
            "_view_module_version": "1.5.0",
            "orientation": "horizontal",
            "min": 0,
            "description_tooltip": null,
            "_model_module": "@jupyter-widgets/controls",
            "layout": "IPY_MODEL_c5cb6e59da0d45d3b66514e7a82865d7"
          }
        },
        "3446031a588641bd89818e9c572ac5f0": {
          "model_module": "@jupyter-widgets/controls",
          "model_name": "HTMLModel",
          "state": {
            "_view_name": "HTMLView",
            "style": "IPY_MODEL_3c8d254e963240029406f5ae062702bd",
            "_dom_classes": [],
            "description": "",
            "_model_name": "HTMLModel",
            "placeholder": "​",
            "_view_module": "@jupyter-widgets/controls",
            "_model_module_version": "1.5.0",
            "value": " 32768/? [00:00&lt;00:00, 253801.24it/s]",
            "_view_count": null,
            "_view_module_version": "1.5.0",
            "description_tooltip": null,
            "_model_module": "@jupyter-widgets/controls",
            "layout": "IPY_MODEL_18eaff89e4b6494ca2ca52873c8688ab"
          }
        },
        "0bd5810c784544c59edeca1a84b3359e": {
          "model_module": "@jupyter-widgets/controls",
          "model_name": "ProgressStyleModel",
          "state": {
            "_view_name": "StyleView",
            "_model_name": "ProgressStyleModel",
            "description_width": "initial",
            "_view_module": "@jupyter-widgets/base",
            "_model_module_version": "1.5.0",
            "_view_count": null,
            "_view_module_version": "1.2.0",
            "bar_color": null,
            "_model_module": "@jupyter-widgets/controls"
          }
        },
        "c5cb6e59da0d45d3b66514e7a82865d7": {
          "model_module": "@jupyter-widgets/base",
          "model_name": "LayoutModel",
          "state": {
            "_view_name": "LayoutView",
            "grid_template_rows": null,
            "right": null,
            "justify_content": null,
            "_view_module": "@jupyter-widgets/base",
            "overflow": null,
            "_model_module_version": "1.2.0",
            "_view_count": null,
            "flex_flow": null,
            "width": null,
            "min_width": null,
            "border": null,
            "align_items": null,
            "bottom": null,
            "_model_module": "@jupyter-widgets/base",
            "top": null,
            "grid_column": null,
            "overflow_y": null,
            "overflow_x": null,
            "grid_auto_flow": null,
            "grid_area": null,
            "grid_template_columns": null,
            "flex": null,
            "_model_name": "LayoutModel",
            "justify_items": null,
            "grid_row": null,
            "max_height": null,
            "align_content": null,
            "visibility": null,
            "align_self": null,
            "height": null,
            "min_height": null,
            "padding": null,
            "grid_auto_rows": null,
            "grid_gap": null,
            "max_width": null,
            "order": null,
            "_view_module_version": "1.2.0",
            "grid_template_areas": null,
            "object_position": null,
            "object_fit": null,
            "grid_auto_columns": null,
            "margin": null,
            "display": null,
            "left": null
          }
        },
        "3c8d254e963240029406f5ae062702bd": {
          "model_module": "@jupyter-widgets/controls",
          "model_name": "DescriptionStyleModel",
          "state": {
            "_view_name": "StyleView",
            "_model_name": "DescriptionStyleModel",
            "description_width": "",
            "_view_module": "@jupyter-widgets/base",
            "_model_module_version": "1.5.0",
            "_view_count": null,
            "_view_module_version": "1.2.0",
            "_model_module": "@jupyter-widgets/controls"
          }
        },
        "18eaff89e4b6494ca2ca52873c8688ab": {
          "model_module": "@jupyter-widgets/base",
          "model_name": "LayoutModel",
          "state": {
            "_view_name": "LayoutView",
            "grid_template_rows": null,
            "right": null,
            "justify_content": null,
            "_view_module": "@jupyter-widgets/base",
            "overflow": null,
            "_model_module_version": "1.2.0",
            "_view_count": null,
            "flex_flow": null,
            "width": null,
            "min_width": null,
            "border": null,
            "align_items": null,
            "bottom": null,
            "_model_module": "@jupyter-widgets/base",
            "top": null,
            "grid_column": null,
            "overflow_y": null,
            "overflow_x": null,
            "grid_auto_flow": null,
            "grid_area": null,
            "grid_template_columns": null,
            "flex": null,
            "_model_name": "LayoutModel",
            "justify_items": null,
            "grid_row": null,
            "max_height": null,
            "align_content": null,
            "visibility": null,
            "align_self": null,
            "height": null,
            "min_height": null,
            "padding": null,
            "grid_auto_rows": null,
            "grid_gap": null,
            "max_width": null,
            "order": null,
            "_view_module_version": "1.2.0",
            "grid_template_areas": null,
            "object_position": null,
            "object_fit": null,
            "grid_auto_columns": null,
            "margin": null,
            "display": null,
            "left": null
          }
        },
        "48d98d3111e14c4887bfab9b6da61b11": {
          "model_module": "@jupyter-widgets/controls",
          "model_name": "HBoxModel",
          "state": {
            "_view_name": "HBoxView",
            "_dom_classes": [],
            "_model_name": "HBoxModel",
            "_view_module": "@jupyter-widgets/controls",
            "_model_module_version": "1.5.0",
            "_view_count": null,
            "_view_module_version": "1.5.0",
            "box_style": "",
            "layout": "IPY_MODEL_afd60c06ce434d64bc6f9e11bae88062",
            "_model_module": "@jupyter-widgets/controls",
            "children": [
              "IPY_MODEL_b1ab27073a894f84bb6c1cc20f136c2c",
              "IPY_MODEL_a1da0307838d4479afac721000418724"
            ]
          }
        },
        "afd60c06ce434d64bc6f9e11bae88062": {
          "model_module": "@jupyter-widgets/base",
          "model_name": "LayoutModel",
          "state": {
            "_view_name": "LayoutView",
            "grid_template_rows": null,
            "right": null,
            "justify_content": null,
            "_view_module": "@jupyter-widgets/base",
            "overflow": null,
            "_model_module_version": "1.2.0",
            "_view_count": null,
            "flex_flow": null,
            "width": null,
            "min_width": null,
            "border": null,
            "align_items": null,
            "bottom": null,
            "_model_module": "@jupyter-widgets/base",
            "top": null,
            "grid_column": null,
            "overflow_y": null,
            "overflow_x": null,
            "grid_auto_flow": null,
            "grid_area": null,
            "grid_template_columns": null,
            "flex": null,
            "_model_name": "LayoutModel",
            "justify_items": null,
            "grid_row": null,
            "max_height": null,
            "align_content": null,
            "visibility": null,
            "align_self": null,
            "height": null,
            "min_height": null,
            "padding": null,
            "grid_auto_rows": null,
            "grid_gap": null,
            "max_width": null,
            "order": null,
            "_view_module_version": "1.2.0",
            "grid_template_areas": null,
            "object_position": null,
            "object_fit": null,
            "grid_auto_columns": null,
            "margin": null,
            "display": null,
            "left": null
          }
        },
        "b1ab27073a894f84bb6c1cc20f136c2c": {
          "model_module": "@jupyter-widgets/controls",
          "model_name": "FloatProgressModel",
          "state": {
            "_view_name": "ProgressView",
            "style": "IPY_MODEL_5b46abb0fbca41dabad3ad76004bb5ca",
            "_dom_classes": [],
            "description": "",
            "_model_name": "FloatProgressModel",
            "bar_style": "success",
            "max": 1,
            "_view_module": "@jupyter-widgets/controls",
            "_model_module_version": "1.5.0",
            "value": 1,
            "_view_count": null,
            "_view_module_version": "1.5.0",
            "orientation": "horizontal",
            "min": 0,
            "description_tooltip": null,
            "_model_module": "@jupyter-widgets/controls",
            "layout": "IPY_MODEL_dbbb6abc764f47308b07e346072f6169"
          }
        },
        "a1da0307838d4479afac721000418724": {
          "model_module": "@jupyter-widgets/controls",
          "model_name": "HTMLModel",
          "state": {
            "_view_name": "HTMLView",
            "style": "IPY_MODEL_65f47cb8965f4288bda0cf592face4c5",
            "_dom_classes": [],
            "description": "",
            "_model_name": "HTMLModel",
            "placeholder": "​",
            "_view_module": "@jupyter-widgets/controls",
            "_model_module_version": "1.5.0",
            "value": " 4423680/? [00:00&lt;00:00, 5511889.05it/s]",
            "_view_count": null,
            "_view_module_version": "1.5.0",
            "description_tooltip": null,
            "_model_module": "@jupyter-widgets/controls",
            "layout": "IPY_MODEL_5787834a0d444927bb8d116a6d94a73a"
          }
        },
        "5b46abb0fbca41dabad3ad76004bb5ca": {
          "model_module": "@jupyter-widgets/controls",
          "model_name": "ProgressStyleModel",
          "state": {
            "_view_name": "StyleView",
            "_model_name": "ProgressStyleModel",
            "description_width": "initial",
            "_view_module": "@jupyter-widgets/base",
            "_model_module_version": "1.5.0",
            "_view_count": null,
            "_view_module_version": "1.2.0",
            "bar_color": null,
            "_model_module": "@jupyter-widgets/controls"
          }
        },
        "dbbb6abc764f47308b07e346072f6169": {
          "model_module": "@jupyter-widgets/base",
          "model_name": "LayoutModel",
          "state": {
            "_view_name": "LayoutView",
            "grid_template_rows": null,
            "right": null,
            "justify_content": null,
            "_view_module": "@jupyter-widgets/base",
            "overflow": null,
            "_model_module_version": "1.2.0",
            "_view_count": null,
            "flex_flow": null,
            "width": null,
            "min_width": null,
            "border": null,
            "align_items": null,
            "bottom": null,
            "_model_module": "@jupyter-widgets/base",
            "top": null,
            "grid_column": null,
            "overflow_y": null,
            "overflow_x": null,
            "grid_auto_flow": null,
            "grid_area": null,
            "grid_template_columns": null,
            "flex": null,
            "_model_name": "LayoutModel",
            "justify_items": null,
            "grid_row": null,
            "max_height": null,
            "align_content": null,
            "visibility": null,
            "align_self": null,
            "height": null,
            "min_height": null,
            "padding": null,
            "grid_auto_rows": null,
            "grid_gap": null,
            "max_width": null,
            "order": null,
            "_view_module_version": "1.2.0",
            "grid_template_areas": null,
            "object_position": null,
            "object_fit": null,
            "grid_auto_columns": null,
            "margin": null,
            "display": null,
            "left": null
          }
        },
        "65f47cb8965f4288bda0cf592face4c5": {
          "model_module": "@jupyter-widgets/controls",
          "model_name": "DescriptionStyleModel",
          "state": {
            "_view_name": "StyleView",
            "_model_name": "DescriptionStyleModel",
            "description_width": "",
            "_view_module": "@jupyter-widgets/base",
            "_model_module_version": "1.5.0",
            "_view_count": null,
            "_view_module_version": "1.2.0",
            "_model_module": "@jupyter-widgets/controls"
          }
        },
        "5787834a0d444927bb8d116a6d94a73a": {
          "model_module": "@jupyter-widgets/base",
          "model_name": "LayoutModel",
          "state": {
            "_view_name": "LayoutView",
            "grid_template_rows": null,
            "right": null,
            "justify_content": null,
            "_view_module": "@jupyter-widgets/base",
            "overflow": null,
            "_model_module_version": "1.2.0",
            "_view_count": null,
            "flex_flow": null,
            "width": null,
            "min_width": null,
            "border": null,
            "align_items": null,
            "bottom": null,
            "_model_module": "@jupyter-widgets/base",
            "top": null,
            "grid_column": null,
            "overflow_y": null,
            "overflow_x": null,
            "grid_auto_flow": null,
            "grid_area": null,
            "grid_template_columns": null,
            "flex": null,
            "_model_name": "LayoutModel",
            "justify_items": null,
            "grid_row": null,
            "max_height": null,
            "align_content": null,
            "visibility": null,
            "align_self": null,
            "height": null,
            "min_height": null,
            "padding": null,
            "grid_auto_rows": null,
            "grid_gap": null,
            "max_width": null,
            "order": null,
            "_view_module_version": "1.2.0",
            "grid_template_areas": null,
            "object_position": null,
            "object_fit": null,
            "grid_auto_columns": null,
            "margin": null,
            "display": null,
            "left": null
          }
        },
        "84114b3d286e49419684a668263ce943": {
          "model_module": "@jupyter-widgets/controls",
          "model_name": "HBoxModel",
          "state": {
            "_view_name": "HBoxView",
            "_dom_classes": [],
            "_model_name": "HBoxModel",
            "_view_module": "@jupyter-widgets/controls",
            "_model_module_version": "1.5.0",
            "_view_count": null,
            "_view_module_version": "1.5.0",
            "box_style": "",
            "layout": "IPY_MODEL_cc28dcbab9094164bcd3e54a497a366f",
            "_model_module": "@jupyter-widgets/controls",
            "children": [
              "IPY_MODEL_940e5d749dd94f1b830a9aff5e35e218",
              "IPY_MODEL_055d83f8c2294a369d3cd664fc0f45d4"
            ]
          }
        },
        "cc28dcbab9094164bcd3e54a497a366f": {
          "model_module": "@jupyter-widgets/base",
          "model_name": "LayoutModel",
          "state": {
            "_view_name": "LayoutView",
            "grid_template_rows": null,
            "right": null,
            "justify_content": null,
            "_view_module": "@jupyter-widgets/base",
            "overflow": null,
            "_model_module_version": "1.2.0",
            "_view_count": null,
            "flex_flow": null,
            "width": null,
            "min_width": null,
            "border": null,
            "align_items": null,
            "bottom": null,
            "_model_module": "@jupyter-widgets/base",
            "top": null,
            "grid_column": null,
            "overflow_y": null,
            "overflow_x": null,
            "grid_auto_flow": null,
            "grid_area": null,
            "grid_template_columns": null,
            "flex": null,
            "_model_name": "LayoutModel",
            "justify_items": null,
            "grid_row": null,
            "max_height": null,
            "align_content": null,
            "visibility": null,
            "align_self": null,
            "height": null,
            "min_height": null,
            "padding": null,
            "grid_auto_rows": null,
            "grid_gap": null,
            "max_width": null,
            "order": null,
            "_view_module_version": "1.2.0",
            "grid_template_areas": null,
            "object_position": null,
            "object_fit": null,
            "grid_auto_columns": null,
            "margin": null,
            "display": null,
            "left": null
          }
        },
        "940e5d749dd94f1b830a9aff5e35e218": {
          "model_module": "@jupyter-widgets/controls",
          "model_name": "FloatProgressModel",
          "state": {
            "_view_name": "ProgressView",
            "style": "IPY_MODEL_1c4bfdb74e5a43608f0776dac5e26719",
            "_dom_classes": [],
            "description": "",
            "_model_name": "FloatProgressModel",
            "bar_style": "success",
            "max": 1,
            "_view_module": "@jupyter-widgets/controls",
            "_model_module_version": "1.5.0",
            "value": 1,
            "_view_count": null,
            "_view_module_version": "1.5.0",
            "orientation": "horizontal",
            "min": 0,
            "description_tooltip": null,
            "_model_module": "@jupyter-widgets/controls",
            "layout": "IPY_MODEL_299fca615a604684bdf6a33fcd43ab28"
          }
        },
        "055d83f8c2294a369d3cd664fc0f45d4": {
          "model_module": "@jupyter-widgets/controls",
          "model_name": "HTMLModel",
          "state": {
            "_view_name": "HTMLView",
            "style": "IPY_MODEL_f3fe379384aa49cebe7f8046d0466843",
            "_dom_classes": [],
            "description": "",
            "_model_name": "HTMLModel",
            "placeholder": "​",
            "_view_module": "@jupyter-widgets/controls",
            "_model_module_version": "1.5.0",
            "value": " 8192/? [00:00&lt;00:00, 34016.88it/s]",
            "_view_count": null,
            "_view_module_version": "1.5.0",
            "description_tooltip": null,
            "_model_module": "@jupyter-widgets/controls",
            "layout": "IPY_MODEL_96e65615cf2949e4a63f059ab8c50b1c"
          }
        },
        "1c4bfdb74e5a43608f0776dac5e26719": {
          "model_module": "@jupyter-widgets/controls",
          "model_name": "ProgressStyleModel",
          "state": {
            "_view_name": "StyleView",
            "_model_name": "ProgressStyleModel",
            "description_width": "initial",
            "_view_module": "@jupyter-widgets/base",
            "_model_module_version": "1.5.0",
            "_view_count": null,
            "_view_module_version": "1.2.0",
            "bar_color": null,
            "_model_module": "@jupyter-widgets/controls"
          }
        },
        "299fca615a604684bdf6a33fcd43ab28": {
          "model_module": "@jupyter-widgets/base",
          "model_name": "LayoutModel",
          "state": {
            "_view_name": "LayoutView",
            "grid_template_rows": null,
            "right": null,
            "justify_content": null,
            "_view_module": "@jupyter-widgets/base",
            "overflow": null,
            "_model_module_version": "1.2.0",
            "_view_count": null,
            "flex_flow": null,
            "width": null,
            "min_width": null,
            "border": null,
            "align_items": null,
            "bottom": null,
            "_model_module": "@jupyter-widgets/base",
            "top": null,
            "grid_column": null,
            "overflow_y": null,
            "overflow_x": null,
            "grid_auto_flow": null,
            "grid_area": null,
            "grid_template_columns": null,
            "flex": null,
            "_model_name": "LayoutModel",
            "justify_items": null,
            "grid_row": null,
            "max_height": null,
            "align_content": null,
            "visibility": null,
            "align_self": null,
            "height": null,
            "min_height": null,
            "padding": null,
            "grid_auto_rows": null,
            "grid_gap": null,
            "max_width": null,
            "order": null,
            "_view_module_version": "1.2.0",
            "grid_template_areas": null,
            "object_position": null,
            "object_fit": null,
            "grid_auto_columns": null,
            "margin": null,
            "display": null,
            "left": null
          }
        },
        "f3fe379384aa49cebe7f8046d0466843": {
          "model_module": "@jupyter-widgets/controls",
          "model_name": "DescriptionStyleModel",
          "state": {
            "_view_name": "StyleView",
            "_model_name": "DescriptionStyleModel",
            "description_width": "",
            "_view_module": "@jupyter-widgets/base",
            "_model_module_version": "1.5.0",
            "_view_count": null,
            "_view_module_version": "1.2.0",
            "_model_module": "@jupyter-widgets/controls"
          }
        },
        "96e65615cf2949e4a63f059ab8c50b1c": {
          "model_module": "@jupyter-widgets/base",
          "model_name": "LayoutModel",
          "state": {
            "_view_name": "LayoutView",
            "grid_template_rows": null,
            "right": null,
            "justify_content": null,
            "_view_module": "@jupyter-widgets/base",
            "overflow": null,
            "_model_module_version": "1.2.0",
            "_view_count": null,
            "flex_flow": null,
            "width": null,
            "min_width": null,
            "border": null,
            "align_items": null,
            "bottom": null,
            "_model_module": "@jupyter-widgets/base",
            "top": null,
            "grid_column": null,
            "overflow_y": null,
            "overflow_x": null,
            "grid_auto_flow": null,
            "grid_area": null,
            "grid_template_columns": null,
            "flex": null,
            "_model_name": "LayoutModel",
            "justify_items": null,
            "grid_row": null,
            "max_height": null,
            "align_content": null,
            "visibility": null,
            "align_self": null,
            "height": null,
            "min_height": null,
            "padding": null,
            "grid_auto_rows": null,
            "grid_gap": null,
            "max_width": null,
            "order": null,
            "_view_module_version": "1.2.0",
            "grid_template_areas": null,
            "object_position": null,
            "object_fit": null,
            "grid_auto_columns": null,
            "margin": null,
            "display": null,
            "left": null
          }
        }
      }
    }
  },
  "cells": [
    {
      "cell_type": "markdown",
      "metadata": {
        "id": "view-in-github",
        "colab_type": "text"
      },
      "source": [
        "<a href=\"https://colab.research.google.com/github/nicoeiris11/fashion-mnist-deep-learning/blob/master/Fashion_MNIST.ipynb\" target=\"_parent\"><img src=\"https://colab.research.google.com/assets/colab-badge.svg\" alt=\"Open In Colab\"/></a>"
      ]
    },
    {
      "cell_type": "code",
      "metadata": {
        "id": "917-T3LVDNA7",
        "colab_type": "code",
        "colab": {}
      },
      "source": [
        "import torch\n",
        "torch.manual_seed(42)\n",
        "torch.backends.cudnn.deterministic = True\n",
        "torch.backends.cudnn.benchmark = False\n",
        "import numpy as np"
      ],
      "execution_count": null,
      "outputs": []
    },
    {
      "cell_type": "code",
      "metadata": {
        "colab_type": "code",
        "id": "dpnJwoJPjiOE",
        "colab": {
          "base_uri": "https://localhost:8080/",
          "height": 34
        },
        "outputId": "29e5aa9f-bd87-4247-8d1a-f5e1161d7069"
      },
      "source": [
        "DEVICE = torch.device('cuda:0' if torch.cuda.is_available() else 'cpu')\n",
        "print(DEVICE)\n",
        "\n",
        "torch.manual_seed(42)\n",
        "torch.backends.cudnn.deterministic = True"
      ],
      "execution_count": null,
      "outputs": [
        {
          "output_type": "stream",
          "text": [
            "cuda:0\n"
          ],
          "name": "stdout"
        }
      ]
    },
    {
      "cell_type": "code",
      "metadata": {
        "colab_type": "code",
        "id": "JpVIgjO52Uou",
        "colab": {
          "base_uri": "https://localhost:8080/",
          "height": 736,
          "referenced_widgets": [
            "cd7deb944806419c8af4780f017eb60b",
            "a6dcddc5708a491483fc5fc6357441aa",
            "de4ffe22a4194c27a82d49166f7f87b6",
            "4780935f483f4f70a1070f3af360abd6",
            "a1d3c73631884ecbbcf434630baa62a0",
            "e0e305b389f946618ec2cd8d13415589",
            "dd0fd158b1ed478eb4a0b998724acd04",
            "53e386f866014462808a304cb3aff72d",
            "c4cda774fd1c46a2b6ea4b1136004775",
            "38a0580114694af2bd9a8d4ac85e2aa3",
            "ccf0d87150fc420aa111df17fe8f7588",
            "3446031a588641bd89818e9c572ac5f0",
            "0bd5810c784544c59edeca1a84b3359e",
            "c5cb6e59da0d45d3b66514e7a82865d7",
            "3c8d254e963240029406f5ae062702bd",
            "18eaff89e4b6494ca2ca52873c8688ab",
            "48d98d3111e14c4887bfab9b6da61b11",
            "afd60c06ce434d64bc6f9e11bae88062",
            "b1ab27073a894f84bb6c1cc20f136c2c",
            "a1da0307838d4479afac721000418724",
            "5b46abb0fbca41dabad3ad76004bb5ca",
            "dbbb6abc764f47308b07e346072f6169",
            "65f47cb8965f4288bda0cf592face4c5",
            "5787834a0d444927bb8d116a6d94a73a",
            "84114b3d286e49419684a668263ce943",
            "cc28dcbab9094164bcd3e54a497a366f",
            "940e5d749dd94f1b830a9aff5e35e218",
            "055d83f8c2294a369d3cd664fc0f45d4",
            "1c4bfdb74e5a43608f0776dac5e26719",
            "299fca615a604684bdf6a33fcd43ab28",
            "f3fe379384aa49cebe7f8046d0466843",
            "96e65615cf2949e4a63f059ab8c50b1c"
          ]
        },
        "outputId": "6b7e0e64-9d80-48df-b2f7-99a68df2f55d"
      },
      "source": [
        "import matplotlib.pyplot as plt\n",
        "import torchvision.datasets as dsets\n",
        "\n",
        "mnist_dataset = dsets.FashionMNIST(\"ruta_donde_guardar_datos\", download=True)\n",
        "\n",
        "print(f\"Tamaño del dataset {len(mnist_dataset)} imagenes.\")\n",
        "print(f\"Clases posibles: {mnist_dataset.classes}\")\n",
        "\n",
        "data_idx = 0  # Indice (0-59999) de la imagen a ver\n",
        "image, label = mnist_dataset[0] \n",
        "\n",
        "print(f\"Objeto imagen: {image} - Clase {label}\")\n",
        "print(f\"Detalles de la imagen {image.size} pixeles\")\n",
        "\n",
        "plt.imshow(image, cmap='gray')\n",
        "plt.show()"
      ],
      "execution_count": null,
      "outputs": [
        {
          "output_type": "stream",
          "text": [
            "Downloading http://fashion-mnist.s3-website.eu-central-1.amazonaws.com/train-images-idx3-ubyte.gz to ruta_donde_guardar_datos/FashionMNIST/raw/train-images-idx3-ubyte.gz\n"
          ],
          "name": "stdout"
        },
        {
          "output_type": "display_data",
          "data": {
            "application/vnd.jupyter.widget-view+json": {
              "model_id": "cd7deb944806419c8af4780f017eb60b",
              "version_minor": 0,
              "version_major": 2
            },
            "text/plain": [
              "HBox(children=(FloatProgress(value=1.0, bar_style='info', max=1.0), HTML(value='')))"
            ]
          },
          "metadata": {
            "tags": []
          }
        },
        {
          "output_type": "stream",
          "text": [
            "Extracting ruta_donde_guardar_datos/FashionMNIST/raw/train-images-idx3-ubyte.gz to ruta_donde_guardar_datos/FashionMNIST/raw\n",
            "Downloading http://fashion-mnist.s3-website.eu-central-1.amazonaws.com/train-labels-idx1-ubyte.gz to ruta_donde_guardar_datos/FashionMNIST/raw/train-labels-idx1-ubyte.gz\n"
          ],
          "name": "stdout"
        },
        {
          "output_type": "display_data",
          "data": {
            "application/vnd.jupyter.widget-view+json": {
              "model_id": "c4cda774fd1c46a2b6ea4b1136004775",
              "version_minor": 0,
              "version_major": 2
            },
            "text/plain": [
              "HBox(children=(FloatProgress(value=1.0, bar_style='info', max=1.0), HTML(value='')))"
            ]
          },
          "metadata": {
            "tags": []
          }
        },
        {
          "output_type": "stream",
          "text": [
            "Extracting ruta_donde_guardar_datos/FashionMNIST/raw/train-labels-idx1-ubyte.gz to ruta_donde_guardar_datos/FashionMNIST/raw\n",
            "Downloading http://fashion-mnist.s3-website.eu-central-1.amazonaws.com/t10k-images-idx3-ubyte.gz to ruta_donde_guardar_datos/FashionMNIST/raw/t10k-images-idx3-ubyte.gz\n",
            "\n"
          ],
          "name": "stdout"
        },
        {
          "output_type": "display_data",
          "data": {
            "application/vnd.jupyter.widget-view+json": {
              "model_id": "48d98d3111e14c4887bfab9b6da61b11",
              "version_minor": 0,
              "version_major": 2
            },
            "text/plain": [
              "HBox(children=(FloatProgress(value=1.0, bar_style='info', max=1.0), HTML(value='')))"
            ]
          },
          "metadata": {
            "tags": []
          }
        },
        {
          "output_type": "stream",
          "text": [
            "Extracting ruta_donde_guardar_datos/FashionMNIST/raw/t10k-images-idx3-ubyte.gz to ruta_donde_guardar_datos/FashionMNIST/raw\n",
            "Downloading http://fashion-mnist.s3-website.eu-central-1.amazonaws.com/t10k-labels-idx1-ubyte.gz to ruta_donde_guardar_datos/FashionMNIST/raw/t10k-labels-idx1-ubyte.gz\n"
          ],
          "name": "stdout"
        },
        {
          "output_type": "display_data",
          "data": {
            "application/vnd.jupyter.widget-view+json": {
              "model_id": "84114b3d286e49419684a668263ce943",
              "version_minor": 0,
              "version_major": 2
            },
            "text/plain": [
              "HBox(children=(FloatProgress(value=1.0, bar_style='info', max=1.0), HTML(value='')))"
            ]
          },
          "metadata": {
            "tags": []
          }
        },
        {
          "output_type": "stream",
          "text": [
            "Extracting ruta_donde_guardar_datos/FashionMNIST/raw/t10k-labels-idx1-ubyte.gz to ruta_donde_guardar_datos/FashionMNIST/raw\n",
            "Processing...\n",
            "Done!\n",
            "Tamaño del dataset 60000 imagenes.\n",
            "Clases posibles: ['T-shirt/top', 'Trouser', 'Pullover', 'Dress', 'Coat', 'Sandal', 'Shirt', 'Sneaker', 'Bag', 'Ankle boot']\n",
            "Objeto imagen: <PIL.Image.Image image mode=L size=28x28 at 0x7F34A4FE0F98> - Clase 9\n",
            "Detalles de la imagen (28, 28) pixeles\n",
            "\n"
          ],
          "name": "stdout"
        },
        {
          "output_type": "stream",
          "text": [
            "/pytorch/torch/csrc/utils/tensor_numpy.cpp:141: UserWarning: The given NumPy array is not writeable, and PyTorch does not support non-writeable tensors. This means you can write to the underlying (supposedly non-writeable) NumPy array using the tensor. You may want to copy the array to protect its data or make it writeable before converting it to a tensor. This type of warning will be suppressed for the rest of this program.\n"
          ],
          "name": "stderr"
        },
        {
          "output_type": "display_data",
          "data": {
            "image/png": "[encoded data removed]",
            "text/plain": [
              "<Figure size 432x288 with 1 Axes>"
            ]
          },
          "metadata": {
            "tags": [],
            "needs_background": "light"
          }
        },
        {
          "output_type": "stream",
          "text": [
            "\n",
            "\n"
          ],
          "name": "stdout"
        }
      ]
    },
    {
      "cell_type": "code",
      "metadata": {
        "id": "NSeGR9v-DNBv",
        "colab_type": "code",
        "colab": {}
      },
      "source": [
        "# Esto permite cambiarle la forma a un tensor aplicandole una transformacion. \n",
        "\n",
        "class ReshapeTransform:\n",
        "    def __init__(self, new_size):\n",
        "        self.new_size = new_size\n",
        "\n",
        "    def __call__(self, img):\n",
        "        return torch.reshape(img, self.new_size)"
      ],
      "execution_count": null,
      "outputs": []
    },
    {
      "cell_type": "code",
      "metadata": {
        "colab_type": "code",
        "id": "PVBOfbYX2UzC",
        "colab": {}
      },
      "source": [
        "import torchvision.transforms as transforms\n",
        "\n",
        "img_transforms = transforms.Compose([transforms.ToTensor(), ReshapeTransform((-1,))])\n",
        "\n",
        "# Descargo los datasets\n",
        "mnist_train_dataset = dsets.FashionMNIST(\"ruta_donde_guardar_datos\", download=True, train=True, transform=img_transforms)\n",
        "\n",
        "# Separo el train set en train y validation\n",
        "train_set, val_set = torch.utils.data.random_split(mnist_train_dataset, [int(0.8 * len(mnist_train_dataset)), int(0.2 * len(mnist_train_dataset))])\n",
        "\n",
        "mnist_test_dataset = dsets.FashionMNIST(\"ruta_donde_guardar_datos\", download=True, train=False, transform=img_transforms)\n",
        "\n",
        "# Creo objetos DataLoader (https://pytorch.org/docs/stable/data.html) que va a permitir crear batches de data automaticamente.\n",
        "\n",
        "# Cuantas imagenes obtener en cada iteracion!\n",
        "BATCH_SIZE = 64\n",
        "\n",
        "# Creo los loaders\n",
        "train_loader = torch.utils.data.DataLoader(train_set, batch_size=BATCH_SIZE, shuffle=True, num_workers=2)\n",
        "val_loader = torch.utils.data.DataLoader(val_set, batch_size=BATCH_SIZE, shuffle=False, num_workers=2)\n",
        "\n",
        "test_loader = torch.utils.data.DataLoader(mnist_test_dataset, batch_size=BATCH_SIZE, shuffle=False, num_workers=2)"
      ],
      "execution_count": null,
      "outputs": []
    },
    {
      "cell_type": "code",
      "metadata": {
        "colab_type": "code",
        "id": "h-SZey-Qqj1P",
        "colab": {
          "base_uri": "https://localhost:8080/",
          "height": 102
        },
        "outputId": "fd372624-b650-4cc2-ae9a-3fa43f5667a3"
      },
      "source": [
        "# Definicion del modelo que voy a usar.\n",
        "import torch.nn as nn\n",
        "import torch.nn.functional as F\n",
        "\n",
        "class FeedForwardModel(nn.Module):\n",
        "\n",
        "    def __init__(self, number_classes=10):\n",
        "        super(FeedForwardModel, self).__init__()\n",
        "        self.linear1 = nn.Linear(in_features=784, out_features=128)\n",
        "        self.linear2 = nn.Linear(in_features=128, out_features=64)\n",
        "        self.output = nn.Linear(in_features=64, out_features=number_classes)\n",
        "  \n",
        "    def forward(self, new_input):\n",
        "        result = F.relu(self.linear1(new_input))\n",
        "        result = F.relu(self.linear2(result))\n",
        "        logits = self.output(result)\n",
        "\n",
        "        return logits\n",
        "\n",
        "\n",
        "model = FeedForwardModel(number_classes=10)\n",
        "model"
      ],
      "execution_count": null,
      "outputs": [
        {
          "output_type": "execute_result",
          "data": {
            "text/plain": [
              "FeedForwardModel(\n",
              "  (linear1): Linear(in_features=784, out_features=128, bias=True)\n",
              "  (linear2): Linear(in_features=128, out_features=64, bias=True)\n",
              "  (output): Linear(in_features=64, out_features=10, bias=True)\n",
              ")"
            ]
          },
          "metadata": {
            "tags": []
          },
          "execution_count": 7
        }
      ]
    },
    {
      "cell_type": "code",
      "metadata": {
        "colab_type": "code",
        "id": "kYtCjd9cqj3x",
        "colab": {}
      },
      "source": [
        "import torch.optim as optim\n",
        "\n",
        "LEARNING_RATE = 0.003\n",
        "\n",
        "ff_model = FeedForwardModel(number_classes=10).to(DEVICE)\n",
        "criterion = nn.CrossEntropyLoss().to(DEVICE)\n",
        "ff_optimizer = optim.SGD(ff_model.parameters(), lr=LEARNING_RATE, momentum=0.9)"
      ],
      "execution_count": null,
      "outputs": []
    },
    {
      "cell_type": "code",
      "metadata": {
        "colab_type": "code",
        "id": "zBEV-LNsqj6o",
        "scrolled": true,
        "colab": {}
      },
      "source": [
        "def train_model(model, train_loader, val_loader, loss_func, optimizer, epochs):\n",
        "    for epoch in range(epochs):  # Itero sobre el dataset entero muchas veces\n",
        "\n",
        "        running_loss = 0.0  \n",
        "\n",
        "        for i, data in enumerate(train_loader):\n",
        "            # Los datos son imagenes y la clase de cada una.\n",
        "            images, labels = data\n",
        "            images = images.to(DEVICE)\n",
        "            labels = labels.to(DEVICE)\n",
        "\n",
        "            # Reseteo los gradientes de los pesos del modelo.\n",
        "            optimizer.zero_grad()   \n",
        "\n",
        "            # Obtengo las predicciones para las nuevas imagenes llamando a nuestro modelo.\n",
        "            predictions = model(images)    \n",
        "\n",
        "            # Calculo el costo de nuestras predicciones respecto a la verdad\n",
        "            loss = loss_func(predictions, labels)\n",
        "\n",
        "            # Computo los gradientes con backward y actualizamos los pesos con un optimizer.step()\n",
        "            loss.backward()\n",
        "            optimizer.step()\n",
        "\n",
        "            # Estadísiticas\n",
        "            running_loss += loss.item()\n",
        "            if i % 500 == 499:    # Imprimo luego de 1000 batches de datos\n",
        "                print(f\"Epoch: {epoch + 1}, Batch: {i + 1} - Loss: {running_loss / 500:.5f}\")\n",
        "                running_loss = 0.0\n",
        "\n",
        "\n",
        "        # Luego de cada epoch de entrenamiento veo la performance (accuracy) en el set de validacion\n",
        "        with torch.no_grad():\n",
        "            correct_predictions = 0.0\n",
        "\n",
        "            for i, data in enumerate(val_loader):\n",
        "                images, labels = data\n",
        "                images = images.to(DEVICE)\n",
        "                labels = labels.to(DEVICE)\n",
        "\n",
        "                predictions = model(images)\n",
        "                predictions = torch.argmax(predictions, dim=1)\n",
        "\n",
        "                correct_predictions += (predictions == labels).detach().cpu().float().sum().item()\n",
        "\n",
        "        print(f\"Validation accuracy {(100 * correct_predictions / len(val_loader.dataset)):.2f} %\")\n",
        "\n",
        "    return model"
      ],
      "execution_count": null,
      "outputs": []
    },
    {
      "cell_type": "code",
      "metadata": {
        "colab_type": "code",
        "id": "leKy45f4N0q8",
        "colab": {}
      },
      "source": [
        "def test_model(model, test_loader):\n",
        "    # Finalmente reporto la performance en el test set:\n",
        "    with torch.no_grad():\n",
        "        correct_predictions = 0.0\n",
        "\n",
        "        for i, data in enumerate(test_loader):\n",
        "            images, labels = data\n",
        "            images = images.to(DEVICE)\n",
        "            labels = labels.to(DEVICE)\n",
        "\n",
        "            predictions = model(images)\n",
        "            predictions = torch.argmax(predictions, dim=1)\n",
        "\n",
        "            correct_predictions += (predictions == labels).detach().cpu().float().sum().item()\n",
        "\n",
        "    print(f\"Test set accuracy {(100 * correct_predictions / len(test_loader.dataset)):.2f} %\")"
      ],
      "execution_count": null,
      "outputs": []
    },
    {
      "cell_type": "code",
      "metadata": {
        "id": "S8uCNsggDNB7",
        "colab_type": "code",
        "colab": {
          "base_uri": "https://localhost:8080/",
          "height": 544
        },
        "outputId": "98b4705e-80fd-41cf-d4b5-9b59c0aac66c"
      },
      "source": [
        "# Usando las funciones definidas arriba entrenar un modelo es trivial\n",
        "ff_model = FeedForwardModel(number_classes=10).to(DEVICE)\n",
        "criterion = nn.CrossEntropyLoss().to(DEVICE)\n",
        "ff_optimizer = optim.SGD(ff_model.parameters(), lr=LEARNING_RATE, momentum=0.9)\n",
        "ff_model = train_model(ff_model, train_loader, val_loader, loss_func=criterion, optimizer=ff_optimizer, epochs=15)\n",
        "test_model(ff_model, test_loader)\n"
      ],
      "execution_count": null,
      "outputs": [
        {
          "output_type": "stream",
          "text": [
            "Epoch: 1, Batch: 500 - Loss: 1.32325\n",
            "Validation accuracy 77.38 %\n",
            "Epoch: 2, Batch: 500 - Loss: 0.57732\n",
            "Validation accuracy 82.87 %\n",
            "Epoch: 3, Batch: 500 - Loss: 0.49557\n",
            "Validation accuracy 83.22 %\n",
            "Epoch: 4, Batch: 500 - Loss: 0.46103\n",
            "Validation accuracy 84.35 %\n",
            "Epoch: 5, Batch: 500 - Loss: 0.43820\n",
            "Validation accuracy 83.93 %\n",
            "Epoch: 6, Batch: 500 - Loss: 0.41808\n",
            "Validation accuracy 85.47 %\n",
            "Epoch: 7, Batch: 500 - Loss: 0.40147\n",
            "Validation accuracy 85.60 %\n",
            "Epoch: 8, Batch: 500 - Loss: 0.38654\n",
            "Validation accuracy 86.06 %\n",
            "Epoch: 9, Batch: 500 - Loss: 0.37084\n",
            "Validation accuracy 85.19 %\n",
            "Epoch: 10, Batch: 500 - Loss: 0.35928\n",
            "Validation accuracy 86.33 %\n",
            "Epoch: 11, Batch: 500 - Loss: 0.35046\n",
            "Validation accuracy 86.61 %\n",
            "Epoch: 12, Batch: 500 - Loss: 0.34453\n",
            "Validation accuracy 86.06 %\n",
            "Epoch: 13, Batch: 500 - Loss: 0.33242\n",
            "Validation accuracy 86.81 %\n",
            "Epoch: 14, Batch: 500 - Loss: 0.33020\n",
            "Validation accuracy 87.26 %\n",
            "Epoch: 15, Batch: 500 - Loss: 0.32181\n",
            "Validation accuracy 87.39 %\n",
            "Test set accuracy 86.71 %\n"
          ],
          "name": "stdout"
        }
      ]
    },
    {
      "cell_type": "markdown",
      "metadata": {
        "id": "RR011ApKDNB-",
        "colab_type": "text"
      },
      "source": [
        "## Mejora del modelo anterior"
      ]
    },
    {
      "cell_type": "code",
      "metadata": {
        "id": "5h_FnSqBDNB-",
        "colab_type": "code",
        "colab": {
          "base_uri": "https://localhost:8080/",
          "height": 102
        },
        "outputId": "7c04d0db-82e5-42a2-fec1-efc14e7b3634"
      },
      "source": [
        "class FeedForwardModel2HiddenLayers(nn.Module):\n",
        "\n",
        "    def __init__(self, number_classes=10):\n",
        "        super(FeedForwardModel2HiddenLayers, self).__init__()\n",
        "        self.linear1 = nn.Linear(in_features=784, out_features=550)\n",
        "        self.linear2 = nn.Linear(in_features=550, out_features=120)\n",
        "        self.output = nn.Linear(in_features=120, out_features=number_classes)\n",
        "\n",
        "    def forward(self, new_input):\n",
        "        result = F.relu(self.linear1(new_input))\n",
        "        result = F.relu(self.linear2(result))\n",
        "        logits = self.output(result)\n",
        "\n",
        "        return logits\n",
        "\n",
        "\n",
        "model = FeedForwardModel2HiddenLayers(number_classes=10)\n",
        "model"
      ],
      "execution_count": null,
      "outputs": [
        {
          "output_type": "execute_result",
          "data": {
            "text/plain": [
              "FeedForwardModel2HiddenLayers(\n",
              "  (linear1): Linear(in_features=784, out_features=550, bias=True)\n",
              "  (linear2): Linear(in_features=550, out_features=120, bias=True)\n",
              "  (output): Linear(in_features=120, out_features=10, bias=True)\n",
              ")"
            ]
          },
          "metadata": {
            "tags": []
          },
          "execution_count": 16
        }
      ]
    },
    {
      "cell_type": "code",
      "metadata": {
        "id": "4D7SHZVRDNCA",
        "colab_type": "code",
        "colab": {}
      },
      "source": [
        "import torch.optim as optim\n",
        "LEARNING_RATE = 0.0006\n",
        "\n",
        "ff_model_4 = FeedForwardModel2HiddenLayers(number_classes=10).to(DEVICE)\n",
        "criterion_4 = nn.CrossEntropyLoss().to(DEVICE)\n",
        "ff_optimizer_4 = optim.Adam(ff_model_4.parameters(), lr=LEARNING_RATE)"
      ],
      "execution_count": null,
      "outputs": []
    },
    {
      "cell_type": "code",
      "metadata": {
        "id": "fRjNGbOeDNCC",
        "colab_type": "code",
        "colab": {
          "base_uri": "https://localhost:8080/",
          "height": 544
        },
        "outputId": "e6638509-ab00-4d1f-8720-3bd556e64b19"
      },
      "source": [
        "ff_model_4 = train_model(ff_model_4, train_loader, val_loader, loss_func=criterion_4, optimizer=ff_optimizer_4, epochs=15)\n",
        "test_model(ff_model_4, test_loader)"
      ],
      "execution_count": null,
      "outputs": [
        {
          "output_type": "stream",
          "text": [
            "Epoch: 1, Batch: 500 - Loss: 0.61727\n",
            "Validation accuracy 85.58 %\n",
            "Epoch: 2, Batch: 500 - Loss: 0.38873\n",
            "Validation accuracy 86.72 %\n",
            "Epoch: 3, Batch: 500 - Loss: 0.34641\n",
            "Validation accuracy 87.87 %\n",
            "Epoch: 4, Batch: 500 - Loss: 0.31519\n",
            "Validation accuracy 85.72 %\n",
            "Epoch: 5, Batch: 500 - Loss: 0.29246\n",
            "Validation accuracy 87.85 %\n",
            "Epoch: 6, Batch: 500 - Loss: 0.28187\n",
            "Validation accuracy 88.22 %\n",
            "Epoch: 7, Batch: 500 - Loss: 0.26092\n",
            "Validation accuracy 88.75 %\n",
            "Epoch: 8, Batch: 500 - Loss: 0.25194\n",
            "Validation accuracy 88.69 %\n",
            "Epoch: 9, Batch: 500 - Loss: 0.23826\n",
            "Validation accuracy 88.42 %\n",
            "Epoch: 10, Batch: 500 - Loss: 0.22887\n",
            "Validation accuracy 88.73 %\n",
            "Epoch: 11, Batch: 500 - Loss: 0.21863\n",
            "Validation accuracy 88.46 %\n",
            "Epoch: 12, Batch: 500 - Loss: 0.21152\n",
            "Validation accuracy 89.02 %\n",
            "Epoch: 13, Batch: 500 - Loss: 0.19748\n",
            "Validation accuracy 88.74 %\n",
            "Epoch: 14, Batch: 500 - Loss: 0.19278\n",
            "Validation accuracy 89.45 %\n",
            "Epoch: 15, Batch: 500 - Loss: 0.17830\n",
            "Validation accuracy 88.72 %\n",
            "Test set accuracy 88.66 %\n"
          ],
          "name": "stdout"
        }
      ]
    },
    {
      "cell_type": "markdown",
      "metadata": {
        "id": "xzLhwM3sDNCE",
        "colab_type": "text"
      },
      "source": [
        "# Solucion con redes convolucionales\n"
      ]
    },
    {
      "cell_type": "code",
      "metadata": {
        "id": "pIwyN8_vDNCE",
        "colab_type": "code",
        "colab": {}
      },
      "source": [
        "import torchvision.transforms as transforms\n",
        "\n",
        "# Descargamos los datasets\n",
        "mnist_train_dataset = dsets.FashionMNIST(\"ruta_donde_guardar_datos\", download=True, train=True, transform=transforms.ToTensor())\n",
        "\n",
        "# Separamos el train set en train y validation\n",
        "train_set, val_set = torch.utils.data.random_split(mnist_train_dataset, [int(0.8 * len(mnist_train_dataset)), int(0.2 * len(mnist_train_dataset))])\n",
        "\n",
        "mnist_test_dataset = dsets.FashionMNIST(\"ruta_donde_guardar_datos\", download=True, train=False, transform=transforms.ToTensor())\n",
        "\n",
        "# Creamos objetos DataLoader (https://pytorch.org/docs/stable/data.html) que nos va a permitir crear batches de data automaticamente.\n",
        "\n",
        "# Cuantas imagenes obtener en cada iteracion!\n",
        "BATCH_SIZE = 64\n",
        "\n",
        "# Creamos los loaders\n",
        "train_loader = torch.utils.data.DataLoader(train_set, batch_size=BATCH_SIZE, shuffle=True, num_workers=2)\n",
        "val_loader = torch.utils.data.DataLoader(val_set, batch_size=BATCH_SIZE, shuffle=False, num_workers=2)\n",
        "\n",
        "test_loader = torch.utils.data.DataLoader(mnist_test_dataset, batch_size=BATCH_SIZE, shuffle=False, num_workers=2)"
      ],
      "execution_count": null,
      "outputs": []
    },
    {
      "cell_type": "code",
      "metadata": {
        "id": "SdTMMstoDNCH",
        "colab_type": "code",
        "colab": {}
      },
      "source": [
        "class ConvolutionalModel(nn.Module):\n",
        "    def __init__(self, number_classes):\n",
        "        super().__init__()\n",
        "        self.conv1 = nn.Conv2d(in_channels=1, out_channels=16, kernel_size=3, padding=1)\n",
        "        self.conv2 = nn.Conv2d(in_channels=16, out_channels=8, kernel_size=3, padding=1)\n",
        "        \n",
        "        self.pooling_layer = nn.MaxPool2d(kernel_size=2, stride=2)   # Regiones de 2x2 con paso 2.\n",
        "        \n",
        "        # Estas imagenes son de 28x28 y vamos a aplicar 2 veces la capa de pooling\n",
        "        # por lo que el resultado es de tamaño 7x7 (28 / 2 / 2).\n",
        "        # El 16 es porque terminamos con 16 feature maps de 7x7\n",
        "        \n",
        "        self.fc1 = nn.Linear(in_features=7*7*8, out_features=128) \n",
        "        \n",
        "        self.output = nn.Linear(in_features=128, out_features=number_classes)\n",
        "        \n",
        "\n",
        "    def forward(self, new_input):\n",
        "        result = self.conv1(new_input)\n",
        "        result = F.relu(self.pooling_layer(result))\n",
        "        \n",
        "        result = self.conv2(result)\n",
        "        result = F.relu(self.pooling_layer(result))     \n",
        "        \n",
        "        # \"Achatamos\" los feature maps\n",
        "        result = result.reshape((-1, self.fc1.in_features))\n",
        "        result = F.relu(self.fc1(result))\n",
        "        \n",
        "        return self.output(result)"
      ],
      "execution_count": null,
      "outputs": []
    },
    {
      "cell_type": "code",
      "metadata": {
        "id": "b8Kcc_zmDNCJ",
        "colab_type": "code",
        "colab": {
          "base_uri": "https://localhost:8080/",
          "height": 374
        },
        "outputId": "584e7341-ea3a-40f7-c93b-918d80851cab"
      },
      "source": [
        "conv_model = ConvolutionalModel(number_classes=10).to(DEVICE)\n",
        "\n",
        "LEARNING_RATE = 0.03\n",
        "\n",
        "criterion = nn.CrossEntropyLoss().to(DEVICE)\n",
        "conv_optimizer = optim.SGD(conv_model.parameters(), lr=LEARNING_RATE, momentum=0.9)\n",
        "\n",
        "conv_model = train_model(conv_model, train_loader, val_loader, loss_func=criterion, optimizer=conv_optimizer, epochs=10)\n",
        "test_model(conv_model, test_loader)"
      ],
      "execution_count": null,
      "outputs": [
        {
          "output_type": "stream",
          "text": [
            "Epoch: 1, Batch: 500 - Loss: 0.73411\n",
            "Validation accuracy 86.03 %\n",
            "Epoch: 2, Batch: 500 - Loss: 0.36803\n",
            "Validation accuracy 87.95 %\n",
            "Epoch: 3, Batch: 500 - Loss: 0.31337\n",
            "Validation accuracy 88.17 %\n",
            "Epoch: 4, Batch: 500 - Loss: 0.28544\n",
            "Validation accuracy 88.40 %\n",
            "Epoch: 5, Batch: 500 - Loss: 0.26898\n",
            "Validation accuracy 88.72 %\n",
            "Epoch: 6, Batch: 500 - Loss: 0.26080\n",
            "Validation accuracy 90.58 %\n",
            "Epoch: 7, Batch: 500 - Loss: 0.24142\n",
            "Validation accuracy 90.15 %\n",
            "Epoch: 8, Batch: 500 - Loss: 0.22999\n",
            "Validation accuracy 89.73 %\n",
            "Epoch: 9, Batch: 500 - Loss: 0.22316\n",
            "Validation accuracy 90.50 %\n",
            "Epoch: 10, Batch: 500 - Loss: 0.21157\n",
            "Validation accuracy 90.39 %\n",
            "Test set accuracy 89.65 %\n"
          ],
          "name": "stdout"
        }
      ]
    },
    {
      "cell_type": "markdown",
      "metadata": {
        "id": "JAp2OrpQDNCL",
        "colab_type": "text"
      },
      "source": [
        "## Mejora del modelo anterior\n"
      ]
    },
    {
      "cell_type": "code",
      "metadata": {
        "id": "xOVm7mnMDNCL",
        "colab_type": "code",
        "colab": {}
      },
      "source": [
        "class ConvolutionalModelCustom(nn.Module):\n",
        "    def __init__(self, number_classes):\n",
        "        super().__init__()\n",
        "        self.conv1 = nn.Conv2d(in_channels=1, out_channels=8, kernel_size=3, padding=1)\n",
        "        self.conv2 = nn.Conv2d(in_channels=8, out_channels=16, kernel_size=3, padding=1)\n",
        "        self.conv3 = nn.Conv2d(in_channels=16, out_channels=32, kernel_size=3, padding=1)\n",
        "        \n",
        "        self.pooling_layer = nn.MaxPool2d(kernel_size=2, stride=2)   # Regiones de 2x2 con paso 2.\n",
        "        \n",
        "        # Nuestras imagenes son de 28x28 y vamos a aplicar 2 veces la capa de pooling\n",
        "        # por lo que el resultado es de tamaño 7x7 (28 / 2 / 2).\n",
        "        # El 16 es porque terminamos con 16 feature maps de 7x7\n",
        "        \n",
        "        self.fc1 = nn.Linear(in_features=7*7*32, out_features=620) \n",
        "        \n",
        "        self.output = nn.Linear(in_features=620, out_features=number_classes)\n",
        "        \n",
        "\n",
        "    def forward(self, new_input):\n",
        "        result = self.conv1(new_input)\n",
        "        result = F.relu(result)\n",
        "        \n",
        "        result = self.conv2(result)\n",
        "        result = F.relu(self.pooling_layer(result))     \n",
        "\n",
        "        result = self.conv3(result)\n",
        "        result = F.relu(self.pooling_layer(result))     \n",
        "        \n",
        "        # \"Achatamos\" los feature maps\n",
        "        result = result.reshape((-1, self.fc1.in_features))\n",
        "        result = F.relu(self.fc1(result))\n",
        "        \n",
        "        return self.output(result)"
      ],
      "execution_count": null,
      "outputs": []
    },
    {
      "cell_type": "code",
      "metadata": {
        "id": "XXiXw0ExDNCN",
        "colab_type": "code",
        "colab": {
          "base_uri": "https://localhost:8080/",
          "height": 374
        },
        "outputId": "a2272b3e-ed9d-4b14-d34b-a0f182b53940"
      },
      "source": [
        "conv_model = ConvolutionalModelCustom(number_classes=10).to(DEVICE)\n",
        "\n",
        "LEARNING_RATE = 0.003\n",
        "\n",
        "criterion = nn.CrossEntropyLoss().to(DEVICE)\n",
        "conv_optimizer = optim.Adam(conv_model.parameters(), lr=LEARNING_RATE)\n",
        "\n",
        "conv_model = train_model(conv_model, train_loader, val_loader, loss_func=criterion, optimizer=conv_optimizer, epochs=10)\n",
        "test_model(conv_model, test_loader)"
      ],
      "execution_count": null,
      "outputs": [
        {
          "output_type": "stream",
          "text": [
            "Epoch: 1, Batch: 500 - Loss: 0.50492\n",
            "Validation accuracy 88.04 %\n",
            "Epoch: 2, Batch: 500 - Loss: 0.28956\n",
            "Validation accuracy 90.32 %\n",
            "Epoch: 3, Batch: 500 - Loss: 0.24283\n",
            "Validation accuracy 91.38 %\n",
            "Epoch: 4, Batch: 500 - Loss: 0.20293\n",
            "Validation accuracy 91.18 %\n",
            "Epoch: 5, Batch: 500 - Loss: 0.17939\n",
            "Validation accuracy 91.33 %\n",
            "Epoch: 6, Batch: 500 - Loss: 0.14894\n",
            "Validation accuracy 91.13 %\n",
            "Epoch: 7, Batch: 500 - Loss: 0.12787\n",
            "Validation accuracy 90.35 %\n",
            "Epoch: 8, Batch: 500 - Loss: 0.10903\n",
            "Validation accuracy 91.44 %\n",
            "Epoch: 9, Batch: 500 - Loss: 0.08799\n",
            "Validation accuracy 91.53 %\n",
            "Epoch: 10, Batch: 500 - Loss: 0.07021\n",
            "Validation accuracy 91.80 %\n",
            "Test set accuracy 91.21 %\n"
          ],
          "name": "stdout"
        }
      ]
    }
  ]
}